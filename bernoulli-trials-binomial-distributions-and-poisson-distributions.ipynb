{
 "cells": [
  {
   "cell_type": "markdown",
   "metadata": {},
   "source": [
    "# Bernoulli Trial  \n",
    "\n",
    "A Bernoulli trial is an experiment in which there are two possible outcomes. These outcomes are labeled as success or failure. The probability of success is p while the probabilty of failure is q. Since the probability of all outcomes must sum to one, we have $p + q = 1$.   \n",
    "\n",
    "Some common examples are:   \n",
    "\n",
    "- Flipping a fair coin. If we define heads as success and tails as failure, then $p = 0.5$ and tails $q = 0.5$   \n",
    "\n",
    "\n",
    "\n",
    "- Rolling a die. If we define 3 as a success and everything else as a failure, then $p = \\frac{1}{6}$ and $q = \\frac{5}{6}$      \n",
    "\n",
    "\n",
    "- Drawing the top card from a deck of cards. If we define an ace as a success and everything else as a failure, then $p = \\frac{4}{52}$ and $q = \\frac{48}{52}$   \n",
    "\n",
    "\n",
    "# Binomial Distribution\n",
    "\n",
    "The binomial distribution describes the outcome x of n Bernoulli trials. In keeping with the examples above you could ask, \"if I flipped a fair coin 10 times, what is the probability that I'll get exactly 5 heads?\" Here n = 10 as we are perfroming 10 Bernoulli trials and outcome of interest x = 5.\n",
    "\n",
    "To evaluate this question analytically, you could use the following formula   \n",
    "\n",
    "$$P(X = x) = \\binom{n}{x}p^{x}q^{n-x}$$  \n",
    "\n",
    "This says that the probability of x occuring, is equal to n choose x (the number of ways to get x outcomes in n trials; or the number of ways to get 5 heads in 10 flips) times the probability of success x times, times the probability of failure n-x times. Using this formula above we see that analytically, the probability of getting 5 heads out of 10 coin flips is   \n",
    "\n",
    "$$\n",
    "\\begin{align}\n",
    "P(X = 5) & = \\binom{10}{5}(0.5)^5(0.5)^{10-5} \\\\  \\\\ \n",
    "         & = (252)(0.03125)(0.03125) \\\\  \\\\ \n",
    "         & = 0.2461 \\\\  \n",
    "\\end{align}\n",
    "$$\n",
    "\n",
    "Another way to figure out this probability is to start flipping a coin. You flip a coin 10 times in a row and write down how many times heads came up. This is just one experiment though, all ten trials amounts to a single data point; i.e., the number of heads you got when you flipped a coin 10 times. This is demonstrated below in code. First we learn to simulate a single coin flip. Then we flip it 10 times and observe how many heads came up out of the ten times."
   ]
  },
  {
   "cell_type": "code",
   "execution_count": 1,
   "metadata": {},
   "outputs": [
    {
     "data": {
      "text/plain": [
       "0.5026680188886404"
      ]
     },
     "execution_count": 1,
     "metadata": {},
     "output_type": "execute_result"
    }
   ],
   "source": [
    "# Using numpy to generate random numbers\n",
    "import numpy as np\n",
    "\n",
    "# np.random.rand() returns a number between 0 and 1. \n",
    "# All numbers between 0 and 1 have equal probability of being chosen.\n",
    "np.random.rand()"
   ]
  },
  {
   "cell_type": "code",
   "execution_count": 5,
   "metadata": {},
   "outputs": [
    {
     "name": "stdout",
     "output_type": "stream",
     "text": [
      "Heads\n"
     ]
    }
   ],
   "source": [
    "# If we define anything above 0.5 as heads and everything below 0.5 as tails, we can simulate the coin flips\n",
    "if np.random.rand() > 0.5:\n",
    "    print('Heads')\n",
    "    \n",
    "else:\n",
    "    print('Tails')"
   ]
  },
  {
   "cell_type": "code",
   "execution_count": 6,
   "metadata": {},
   "outputs": [
    {
     "name": "stdout",
     "output_type": "stream",
     "text": [
      "6\n"
     ]
    }
   ],
   "source": [
    "# Using this, we can write a for loop to run a trial of 10 coin flips and record the number of heads\n",
    "\n",
    "# At the start of the experiment, we have 0 heads\n",
    "heads = 0\n",
    "\n",
    "# start flipping 10 times\n",
    "for _ in range(10):\n",
    "    \n",
    "    # simulate a flip\n",
    "    outcome = np.random.rand()\n",
    "    \n",
    "    # if the coin comes up heads, increment by 1\n",
    "    if outcome > 0.5:\n",
    "        heads += 1\n",
    "    \n",
    "    # if it isn't heads, do nothing\n",
    "    else:\n",
    "        pass\n",
    "    \n",
    "# print how many heads came up out of of the 10 flips    \n",
    "print(heads)"
   ]
  },
  {
   "cell_type": "markdown",
   "metadata": {},
   "source": [
    "This doesn't say much about the probability of getting heads five times overall though. As said before, this is our single data point.   \n",
    "\n",
    "To get a feel for the probability you have to repeat the experiment many many times. Flip a coin 10 times and record the number of heads. Then do it again 1000 times. Code is below. We just take the code we wrote above, and enclose it in a for loop that runs 1000 times. We also start a heads_list to keep track of each data point (the outcome of each of the ten flips).  "
   ]
  },
  {
   "cell_type": "code",
   "execution_count": 38,
   "metadata": {},
   "outputs": [],
   "source": [
    "# initialize heads_list\n",
    "heads_list = []\n",
    "\n",
    "num_of_experiments = 1000\n",
    "\n",
    "# Do what we did above 1000 times\n",
    "for _ in range(num_of_experiments):\n",
    "    \n",
    "    # At the start of the experiment, we have 0 heads\n",
    "    heads = 0\n",
    "\n",
    "    # start flipping 10 times\n",
    "    for _ in range(10):\n",
    "\n",
    "        # simulate a flip\n",
    "        outcome = np.random.rand()\n",
    "\n",
    "        # if the coin comes up heads, increment by 1\n",
    "        if outcome > 0.5:\n",
    "            heads += 1\n",
    "\n",
    "        # if it isn't heads, do nothing\n",
    "        else:\n",
    "            pass\n",
    "\n",
    "    # record how many heads came up out of of the 10 flips    \n",
    "    heads_list.append(heads)"
   ]
  },
  {
   "cell_type": "markdown",
   "metadata": {},
   "source": [
    "Now we have a list of 1000 experiments. How many times did we get 5 heads out of 10 flips? We can observe this by converting our heads_list to a numpy array and making use of a boolean condition equal to 5.  "
   ]
  },
  {
   "cell_type": "code",
   "execution_count": 39,
   "metadata": {},
   "outputs": [
    {
     "name": "stdout",
     "output_type": "stream",
     "text": [
      "5 heads in ten flips happened 233 times out of the 1000\n",
      "Simulated probability is 0.233\n"
     ]
    }
   ],
   "source": [
    "heads_array = np.array(heads_list) # create the array so that we can use a boolean condition\n",
    "\n",
    "# In the array, whereever a five occurs, it will be set to True. Everything else we be set to False\n",
    "# When we sum this, all Trues will evaluate to 1 and Falses will evaluate to 0. \n",
    "# True + True = 2\n",
    "# True + False = 1\n",
    "# False + False = 0\n",
    "# etc.\n",
    "head5_count = sum(heads_array == 5)\n",
    "print(f'5 heads in ten flips happened {head5_count} times out of the {num_of_experiments}')\n",
    "print(f'Simulated probability is {round(head5_count/num_of_experiments,4)}')"
   ]
  },
  {
   "cell_type": "markdown",
   "metadata": {},
   "source": [
    "That's really close to the analytical solution of 0.2461. The more times you perform the experiment the closer these two solutions are to each other. You can see this by changing the variable num_of_experiments above and rerunning the cells.   \n",
    "\n",
    "Let's look at a histogram of all the outcomes."
   ]
  },
  {
   "cell_type": "code",
   "execution_count": 43,
   "metadata": {},
   "outputs": [
    {
     "data": {
      "image/png": "[encoded data removed]",
      "text/plain": [
       "<Figure size 1080x504 with 1 Axes>"
      ]
     },
     "metadata": {},
     "output_type": "display_data"
    }
   ],
   "source": [
    "# Importing matplot lib for the histogram\n",
    "import matplotlib.pyplot as plt\n",
    "\n",
    "# importing seaborn for styling\n",
    "import seaborn as sns\n",
    "sns.set() # sets plot style\n",
    "\n",
    "\n",
    "fs = 15 # fs = fontsize\n",
    "plt.figure(figsize=(15,7)) # Create a figure 15 by 7\n",
    "plt.title('Histogram of 1000 experiments observing the number of heads in 10 coin flips', fontsize=fs) # title\n",
    "plt.hist(heads_list, bins=np.arange(0,11)-0.5); # Make histogram with bins centered on 1, 2, 3, ..., 10\n",
    "plt.xticks(np.arange(0, 11), [str(x) for x in np.arange(0, 11)], fontsize=fs)\n",
    "plt.xlabel('Number of heads', fontsize=fs)\n",
    "plt.ylabel('Counts', fontsize=fs)\n",
    "plt.yticks(fontsize=fs)\n",
    "plt.show()"
   ]
  },
  {
   "cell_type": "code",
   "execution_count": null,
   "metadata": {},
   "outputs": [],
   "source": []
  }
 ],
 "metadata": {
  "kernelspec": {
   "display_name": "Python 3",
   "language": "python",
   "name": "python3"
  },
  "language_info": {
   "codemirror_mode": {
    "name": "ipython",
    "version": 3
   },
   "file_extension": ".py",
   "mimetype": "text/x-python",
   "name": "python",
   "nbconvert_exporter": "python",
   "pygments_lexer": "ipython3",
   "version": "3.7.4"
  }
 },
 "nbformat": 4,
 "nbformat_minor": 2
}
