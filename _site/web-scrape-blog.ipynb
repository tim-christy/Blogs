{
 "cells": [
  {
   "cell_type": "markdown",
   "metadata": {},
   "source": [
    "# The Packages\n",
    "\n",
    "We will be using urllib and BeautifulSoup to do out scraping. urllib is part of the Python standard library and should come with Python. If you do not already have BeautifulSoup, you can pip install it via  \n",
    "\n",
    "```python\n",
    "pip install beautifulsoup4\n",
    "```  \n",
    "\n",
    "pandas is also imported to help with the storing of the data later."
   ]
  },
  {
   "cell_type": "code",
   "execution_count": 1,
   "metadata": {},
   "outputs": [],
   "source": [
    "from urllib.request import urlopen\n",
    "from bs4 import BeautifulSoup\n",
    "import pandas as pd"
   ]
  },
  {
   "cell_type": "markdown",
   "metadata": {},
   "source": [
    "Once these are imported, we can access the web page using the urllib library. The following lines of code do the following:  \n",
    "\n",
    "1) Store the url in string format into a variable URL   \n",
    "\n",
    "2) Opens the web page at the given url    \n",
    "\n",
    "3) Reads in all the html data and stores this data into a variable called html      \n",
    "\n",
    "4) Closes the connection to the website"
   ]
  },
  {
   "cell_type": "code",
   "execution_count": 2,
   "metadata": {},
   "outputs": [],
   "source": [
    "URL = 'https://en.wikipedia.org/wiki/List_of_countries_and_dependencies_by_population' # 1)\n",
    "uClient = urlopen(URL) # 2)\n",
    "html = uClient.read() # 3)\n",
    "uClient.close() # 4)"
   ]
  },
  {
   "cell_type": "markdown",
   "metadata": {},
   "source": [
    "If we observe the html variable from above, we see a mess of html data that was taken from the webpage."
   ]
  },
  {
   "cell_type": "code",
   "execution_count": 38,
   "metadata": {
    "scrolled": true
   },
   "outputs": [
    {
     "data": {
      "text/plain": [
       "b'<!DOCTYPE html>\\n<html class=\"client-nojs\" lang=\"en\" dir=\"ltr\">\\n<head>\\n<meta charset=\"UTF-8\"/>\\n<title>List of countries and dependencies by population - Wikipedia</title>\\n<script>document.documentElement.className=\"client-js\";RLCONF={\"wgBreakFrames\":!1,\"wgSeparatorTransformTable\":[\"\",\"\"],\"wgDigitTransformTable\":[\"\",\"\"],\"wgDefaultDateFormat\":\"dmy\",\"wgMonthNames\":[\"\",\"January\",\"February\",\"March\",\"April\",\"May\",\"June\",\"July\",\"August\",\"September\",\"October\",\"November\",\"December\"],\"wgMonthNamesShort\":[\"\",\"Jan\",\"Feb\",\"Mar\",\"Apr\",\"May\",\"Jun\",\"Jul\",\"Aug\",\"Sep\",\"Oct\",\"Nov\",\"Dec\"],\"wgRequestId\":\"XkAbmwpAIDEAAHN8u44AAADE\",\"wgCSPNonce\":!1,\"wgCanonicalNamespace\":\"\",\"wgCanonicalSpecialPageName\":!1,\"wgNamespaceNumber\":0,\"wgPageName\":\"List_of_countries_and_dependencies_by_population\",\"wgTitle\":\"List of countries and dependencies by population\",\"wgCurRevisionId\":939921126,\"wgRevisionId\":939921126,\"wgArticleId\":69058,\"wgIsArticle\":!0,\"wgIsRedirect\":!1,\"wgAction\":\"view\",\"wgUserName\":null,\"wgUserGroups\":[\"*\"'"
      ]
     },
     "execution_count": 38,
     "metadata": {},
     "output_type": "execute_result"
    }
   ],
   "source": [
    "html[0:1000]"
   ]
  },
  {
   "cell_type": "markdown",
   "metadata": {},
   "source": [
    "We can begin to clean this up with BS4. First we create a BeautifulSoup object, which allows us to use BeautifulSoup's funcitons to parse through the html data. To make the object we pass our html variable created above and the type of parser we would like to use. We will be using 'html.parser' although there are more options than that. You can read about them [here](https://www.crummy.com/software/BeautifulSoup/bs4/doc/#installing-a-parser). Once the soup object is created, your can use the prettify() method to observe a cleaner output of the html data."
   ]
  },
  {
   "cell_type": "code",
   "execution_count": 4,
   "metadata": {},
   "outputs": [],
   "source": [
    "soup = BeautifulSoup(html, 'html.parser') # Create soup object"
   ]
  },
  {
   "cell_type": "code",
   "execution_count": 37,
   "metadata": {
    "scrolled": true
   },
   "outputs": [
    {
     "name": "stdout",
     "output_type": "stream",
     "text": [
      "<!DOCTYPE html>\n",
      "<html class=\"client-nojs\" dir=\"ltr\" lang=\"en\">\n",
      " <head>\n",
      "  <meta charset=\"utf-8\"/>\n",
      "  <title>\n",
      "   List of countries and dependencies by population - Wikipedia\n",
      "  </title>\n",
      "  <script>\n",
      "   document.documentElement.className=\"client-js\";RLCONF={\"wgBreakFrames\":!1,\"wgSeparatorTransformTable\":[\"\",\"\"],\"wgDigitTransformTable\":[\"\",\"\"],\"wgDefaultDateFormat\":\"dmy\",\"wgMonthNames\":[\"\",\"January\",\"February\",\"March\",\"April\",\"May\",\"June\",\"July\",\"August\",\"September\",\"October\",\"November\",\"December\"],\"wgMonthNamesShort\":[\"\",\"Jan\",\"Feb\",\"Mar\",\"Apr\",\"May\",\"Jun\",\"Jul\",\"Aug\",\"Sep\",\"Oct\",\"Nov\",\"Dec\"],\"wgRequestId\":\"XkAbmwpAIDEAAHN8u44AAADE\",\"wgCSPNonce\":!1,\"wgCanonicalNamespace\":\"\",\"wgCanonicalSpecialPageName\":!1,\"wgNamespaceNumber\":0,\"wgPageName\":\"List_of_countries_and_dependencies_by_population\",\"wgTitle\":\"List of countries and dependencies by population\",\"wgCurRevisionId\":939921126,\"wgRevisionId\":939921126,\"wgArticleId\":69058,\"wgIsArticle\":!0,\"wgIsRedirect\":!1,\"wgAction\":\"view\",\"wgUserName\":null,\"\n"
     ]
    }
   ],
   "source": [
    "print(soup.prettify()[0:1000])"
   ]
  },
  {
   "cell_type": "markdown",
   "metadata": {},
   "source": [
    "### Navigating the HTML Data\n",
    "\n",
    "BeautifulSoup has methods that make finding data in the html easier. The way this works is by referencing the tags in the html (tags are what's enclosed in the angel brackets; for example \\< a \\> is an anchor tag). You can search through the html by using the find_all method and passing the tag name you are interested in in brackets. One way to identify the tags of interest in a web page is by going to the web page, right clicking, and selecting \"Inspect\" as shown below (Google Chrome is being used here; may be different on other web browsers).  \n",
    "\n",
    "![](inspects.png) \n",
    "\n",
    "The html data will appear in the upper right corner as shown above. As you hover over the html, the corresonding parts on the web page will be highlighted. You can use this feature to see where the data you are interested in is located. For example, below we want to start at the table. Moving along through the html data shows us where we should start to gather this data.  \n",
    "\n",
    "![](highlight.png)"
   ]
  },
  {
   "cell_type": "markdown",
   "metadata": {},
   "source": [
    "# Grabbing the relevant data section\n",
    "\n",
    "It looks like the 'td' tags contain the information we are interested in. We can use the find_all method on our soup object to grab this section by passing 'td' as an argument. This will then allow us to begin parsing through the section we are interested in for the data."
   ]
  },
  {
   "cell_type": "code",
   "execution_count": 6,
   "metadata": {},
   "outputs": [],
   "source": [
    "data = soup.find_all('td') # Grab the table data section"
   ]
  },
  {
   "cell_type": "markdown",
   "metadata": {},
   "source": [
    "# Parsing to grab the data of interest\n",
    "\n",
    "There are probably better ways to do this, but this is how I do it. The data object that has been created can be treated like a list in that it can be iterated through. Typically, I find a way to extract and store the data I am interested in for one row, and then iterate the process with a for loop for the rest of the data. As you can see below, the first item in the object is the rank, the second has the country name, the next has the population data, then the date, followed by the source. The row then repeats in a similar manner when we reach the seventh item in the object (seventh because of zero-indexing). "
   ]
  },
  {
   "cell_type": "code",
   "execution_count": 7,
   "metadata": {},
   "outputs": [
    {
     "data": {
      "text/plain": [
       "<td>1</td>"
      ]
     },
     "execution_count": 7,
     "metadata": {},
     "output_type": "execute_result"
    }
   ],
   "source": [
    "data[0]"
   ]
  },
  {
   "cell_type": "code",
   "execution_count": 8,
   "metadata": {},
   "outputs": [
    {
     "data": {
      "text/plain": [
       "<td align=\"left\"><span class=\"flagicon\"><img alt=\"\" class=\"thumbborder\" data-file-height=\"600\" data-file-width=\"900\" decoding=\"async\" height=\"15\" src=\"//upload.wikimedia.org/wikipedia/commons/thumb/f/fa/Flag_of_the_People%27s_Republic_of_China.svg/23px-Flag_of_the_People%27s_Republic_of_China.svg.png\" srcset=\"//upload.wikimedia.org/wikipedia/commons/thumb/f/fa/Flag_of_the_People%27s_Republic_of_China.svg/35px-Flag_of_the_People%27s_Republic_of_China.svg.png 1.5x, //upload.wikimedia.org/wikipedia/commons/thumb/f/fa/Flag_of_the_People%27s_Republic_of_China.svg/45px-Flag_of_the_People%27s_Republic_of_China.svg.png 2x\" width=\"23\"/></span> <a href=\"/wiki/Demographics_of_China\" title=\"Demographics of China\">China</a><sup class=\"reference\" id=\"cite_ref-4\"><a href=\"#cite_note-4\">[b]</a></sup></td>"
      ]
     },
     "execution_count": 8,
     "metadata": {},
     "output_type": "execute_result"
    }
   ],
   "source": [
    "data[1]"
   ]
  },
  {
   "cell_type": "code",
   "execution_count": 9,
   "metadata": {},
   "outputs": [
    {
     "data": {
      "text/plain": [
       "<td style=\"text-align:right\">1,401,260,600</td>"
      ]
     },
     "execution_count": 9,
     "metadata": {},
     "output_type": "execute_result"
    }
   ],
   "source": [
    "data[2]"
   ]
  },
  {
   "cell_type": "code",
   "execution_count": 10,
   "metadata": {},
   "outputs": [
    {
     "data": {
      "text/plain": [
       "<td align=\"right\"><span data-sort-value=\"7001180483298739621♠\" style=\"display:none\"></span>18.0%</td>"
      ]
     },
     "execution_count": 10,
     "metadata": {},
     "output_type": "execute_result"
    }
   ],
   "source": [
    "data[3]"
   ]
  },
  {
   "cell_type": "code",
   "execution_count": 11,
   "metadata": {},
   "outputs": [
    {
     "data": {
      "text/plain": [
       "<td><span data-sort-value=\"000000002020-02-09-0000\" style=\"white-space:nowrap\">9 Feb 2020</span></td>"
      ]
     },
     "execution_count": 11,
     "metadata": {},
     "output_type": "execute_result"
    }
   ],
   "source": [
    "data[4]"
   ]
  },
  {
   "cell_type": "code",
   "execution_count": 12,
   "metadata": {},
   "outputs": [
    {
     "data": {
      "text/plain": [
       "<td align=\"left\">National population clock<sup class=\"reference\" id=\"cite_ref-5\"><a href=\"#cite_note-5\">[3]</a></sup>\n",
       "</td>"
      ]
     },
     "execution_count": 12,
     "metadata": {},
     "output_type": "execute_result"
    }
   ],
   "source": [
    "data[5]"
   ]
  },
  {
   "cell_type": "code",
   "execution_count": 13,
   "metadata": {},
   "outputs": [
    {
     "data": {
      "text/plain": [
       "<td>2</td>"
      ]
     },
     "execution_count": 13,
     "metadata": {},
     "output_type": "execute_result"
    }
   ],
   "source": [
    "data[6]"
   ]
  },
  {
   "cell_type": "markdown",
   "metadata": {},
   "source": [
    "All we have to do is pick out the data of interest and store it for each iteration. You can pick out the data by using the contents attribute. This attribute selects the contents out from the html tags and stores the elements in a list. If the result isn't what you want, you can continue to parse it down by reusing a combination of indexing and contents. Below we parse out the info we would like for the first row."
   ]
  },
  {
   "cell_type": "code",
   "execution_count": 14,
   "metadata": {},
   "outputs": [
    {
     "data": {
      "text/plain": [
       "[<span class=\"flagicon\"><img alt=\"\" class=\"thumbborder\" data-file-height=\"600\" data-file-width=\"900\" decoding=\"async\" height=\"15\" src=\"//upload.wikimedia.org/wikipedia/commons/thumb/f/fa/Flag_of_the_People%27s_Republic_of_China.svg/23px-Flag_of_the_People%27s_Republic_of_China.svg.png\" srcset=\"//upload.wikimedia.org/wikipedia/commons/thumb/f/fa/Flag_of_the_People%27s_Republic_of_China.svg/35px-Flag_of_the_People%27s_Republic_of_China.svg.png 1.5x, //upload.wikimedia.org/wikipedia/commons/thumb/f/fa/Flag_of_the_People%27s_Republic_of_China.svg/45px-Flag_of_the_People%27s_Republic_of_China.svg.png 2x\" width=\"23\"/></span>,\n",
       " '\\xa0',\n",
       " <a href=\"/wiki/Demographics_of_China\" title=\"Demographics of China\">China</a>,\n",
       " <sup class=\"reference\" id=\"cite_ref-4\"><a href=\"#cite_note-4\">[b]</a></sup>]"
      ]
     },
     "execution_count": 14,
     "metadata": {},
     "output_type": "execute_result"
    }
   ],
   "source": [
    "data[1].contents"
   ]
  },
  {
   "cell_type": "markdown",
   "metadata": {},
   "source": [
    "We just want the country name here and the contents attribute returned way more than we wanted. To get around this we can index the spot in the list that contains the data we want and then use the contents attribute again."
   ]
  },
  {
   "cell_type": "code",
   "execution_count": 15,
   "metadata": {},
   "outputs": [
    {
     "data": {
      "text/plain": [
       "<a href=\"/wiki/Demographics_of_China\" title=\"Demographics of China\">China</a>"
      ]
     },
     "execution_count": 15,
     "metadata": {},
     "output_type": "execute_result"
    }
   ],
   "source": [
    "data[1].contents[2] # Indexing the list"
   ]
  },
  {
   "cell_type": "code",
   "execution_count": 16,
   "metadata": {},
   "outputs": [
    {
     "data": {
      "text/plain": [
       "['China']"
      ]
     },
     "execution_count": 16,
     "metadata": {},
     "output_type": "execute_result"
    }
   ],
   "source": [
    "data[1].contents[2].contents # Grabbing the contents again."
   ]
  },
  {
   "cell_type": "code",
   "execution_count": 17,
   "metadata": {},
   "outputs": [
    {
     "data": {
      "text/plain": [
       "'China'"
      ]
     },
     "execution_count": 17,
     "metadata": {},
     "output_type": "execute_result"
    }
   ],
   "source": [
    "data[1].contents[2].contents[0] # Grabbing just the data alone"
   ]
  },
  {
   "cell_type": "markdown",
   "metadata": {},
   "source": [
    "The above is how we will grab country names in our loop. Let's look at how to grab the rest."
   ]
  },
  {
   "cell_type": "code",
   "execution_count": 18,
   "metadata": {},
   "outputs": [
    {
     "data": {
      "text/plain": [
       "'1,401,260,600'"
      ]
     },
     "execution_count": 18,
     "metadata": {},
     "output_type": "execute_result"
    }
   ],
   "source": [
    "data[2].contents[0] # population"
   ]
  },
  {
   "cell_type": "code",
   "execution_count": 19,
   "metadata": {},
   "outputs": [
    {
     "data": {
      "text/plain": [
       "'9 Feb 2020'"
      ]
     },
     "execution_count": 19,
     "metadata": {},
     "output_type": "execute_result"
    }
   ],
   "source": [
    "data[4].contents[0].contents[0] # Date"
   ]
  },
  {
   "cell_type": "markdown",
   "metadata": {},
   "source": [
    "# Iterating the process\n",
    "\n",
    "Now that we have the genral layout for where our data lies in each row, we can iterate through this process by adjusting the numbers for each row. You may think that because the length of the data object is 1458 and there are 6 items per row, that there is 1458/6 = 243 rows. I did. This turned out to be incorrect because the data object holds data past the rows. I only found this out by attempting to implement the loop for that many rows only to recieve \"list index out of range errors\". I found the correct number of rows by manually searching the end of the data object to see where the last country occurs. It happens at index 1441 and so there are actually 1446/6 = 241 rows.  \n",
    "\n",
    "Second thing: the indexing appeared to shift a bit with the contents between two different formats. Ergo, a try-except was implemented to catch both formats. You can see the two different formats based on the way the each of the countries data is appended in the two clauses."
   ]
  },
  {
   "cell_type": "code",
   "execution_count": 20,
   "metadata": {},
   "outputs": [],
   "source": [
    "countries = []\n",
    "pop = []\n",
    "date = []\n",
    "\n",
    "num_of_rows = 241 # There are 6 items per row.\n",
    "\n",
    "for row_num in range(0, num_of_rows):\n",
    "\n",
    "    \n",
    "    try:\n",
    "        countries.append(data[1 + row_num*6].contents[2].contents[0])\n",
    "        pop.append(data[2+row_num*6].contents[0])\n",
    "        date.append(data[4+row_num*6].contents[0].contents[0])\n",
    "        \n",
    "    except:\n",
    "        countries.append(data[1+row_num*6].contents[0].contents[2].contents[0])\n",
    "        pop.append(data[2+row_num*6].contents[0])\n",
    "        date.append(data[4+row_num*6].contents[0].contents[0])\n",
    " \n",
    "        \n",
    "    \n",
    "    \n",
    "    \n",
    "    \n",
    "    "
   ]
  },
  {
   "cell_type": "code",
   "execution_count": 21,
   "metadata": {},
   "outputs": [
    {
     "data": {
      "text/plain": [
       "241"
      ]
     },
     "execution_count": 21,
     "metadata": {},
     "output_type": "execute_result"
    }
   ],
   "source": [
    "len(countries) "
   ]
  },
  {
   "cell_type": "code",
   "execution_count": 22,
   "metadata": {},
   "outputs": [
    {
     "data": {
      "text/plain": [
       "241"
      ]
     },
     "execution_count": 22,
     "metadata": {},
     "output_type": "execute_result"
    }
   ],
   "source": [
    "len(pop)"
   ]
  },
  {
   "cell_type": "code",
   "execution_count": 23,
   "metadata": {},
   "outputs": [
    {
     "data": {
      "text/plain": [
       "241"
      ]
     },
     "execution_count": 23,
     "metadata": {},
     "output_type": "execute_result"
    }
   ],
   "source": [
    "len(date)"
   ]
  },
  {
   "cell_type": "markdown",
   "metadata": {},
   "source": [
    "# Now to prepare the data for storage\n",
    "\n",
    "From here you can just store this data into a dataframe and export to a csv as follows"
   ]
  },
  {
   "cell_type": "code",
   "execution_count": 24,
   "metadata": {},
   "outputs": [],
   "source": [
    "temporary_dictionary = {'Country': countries, 'Population':pop, 'Date':date}"
   ]
  },
  {
   "cell_type": "code",
   "execution_count": 25,
   "metadata": {},
   "outputs": [],
   "source": [
    "populations_df = pd.DataFrame(temporary_dictionary)"
   ]
  },
  {
   "cell_type": "code",
   "execution_count": 26,
   "metadata": {},
   "outputs": [
    {
     "data": {
      "text/html": [
       "<div>\n",
       "<style scoped>\n",
       "    .dataframe tbody tr th:only-of-type {\n",
       "        vertical-align: middle;\n",
       "    }\n",
       "\n",
       "    .dataframe tbody tr th {\n",
       "        vertical-align: top;\n",
       "    }\n",
       "\n",
       "    .dataframe thead th {\n",
       "        text-align: right;\n",
       "    }\n",
       "</style>\n",
       "<table border=\"1\" class=\"dataframe\">\n",
       "  <thead>\n",
       "    <tr style=\"text-align: right;\">\n",
       "      <th></th>\n",
       "      <th>Country</th>\n",
       "      <th>Population</th>\n",
       "      <th>Date</th>\n",
       "    </tr>\n",
       "  </thead>\n",
       "  <tbody>\n",
       "    <tr>\n",
       "      <td>0</td>\n",
       "      <td>China</td>\n",
       "      <td>1,401,260,600</td>\n",
       "      <td>9 Feb 2020</td>\n",
       "    </tr>\n",
       "    <tr>\n",
       "      <td>1</td>\n",
       "      <td>India</td>\n",
       "      <td>1,358,409,350</td>\n",
       "      <td>9 Feb 2020</td>\n",
       "    </tr>\n",
       "    <tr>\n",
       "      <td>2</td>\n",
       "      <td>United States</td>\n",
       "      <td>329,302,812</td>\n",
       "      <td>9 Feb 2020</td>\n",
       "    </tr>\n",
       "    <tr>\n",
       "      <td>3</td>\n",
       "      <td>Indonesia</td>\n",
       "      <td>266,911,900</td>\n",
       "      <td>1 Jul 2019</td>\n",
       "    </tr>\n",
       "    <tr>\n",
       "      <td>4</td>\n",
       "      <td>Brazil</td>\n",
       "      <td>211,102,824</td>\n",
       "      <td>9 Feb 2020</td>\n",
       "    </tr>\n",
       "    <tr>\n",
       "      <td>...</td>\n",
       "      <td>...</td>\n",
       "      <td>...</td>\n",
       "      <td>...</td>\n",
       "    </tr>\n",
       "    <tr>\n",
       "      <td>236</td>\n",
       "      <td>Niue</td>\n",
       "      <td>1,520</td>\n",
       "      <td>1 Jul 2018</td>\n",
       "    </tr>\n",
       "    <tr>\n",
       "      <td>237</td>\n",
       "      <td>Tokelau</td>\n",
       "      <td>1,400</td>\n",
       "      <td>1 Jul 2018</td>\n",
       "    </tr>\n",
       "    <tr>\n",
       "      <td>238</td>\n",
       "      <td>Vatican City</td>\n",
       "      <td>799</td>\n",
       "      <td>1 Jul 2019</td>\n",
       "    </tr>\n",
       "    <tr>\n",
       "      <td>239</td>\n",
       "      <td>Cocos (Keeling) Islands</td>\n",
       "      <td>538</td>\n",
       "      <td>30 Jun 2018</td>\n",
       "    </tr>\n",
       "    <tr>\n",
       "      <td>240</td>\n",
       "      <td>Pitcairn Islands</td>\n",
       "      <td>50</td>\n",
       "      <td>1 Jan 2019</td>\n",
       "    </tr>\n",
       "  </tbody>\n",
       "</table>\n",
       "<p>241 rows × 3 columns</p>\n",
       "</div>"
      ],
      "text/plain": [
       "                     Country     Population         Date\n",
       "0                      China  1,401,260,600   9 Feb 2020\n",
       "1                      India  1,358,409,350   9 Feb 2020\n",
       "2              United States    329,302,812   9 Feb 2020\n",
       "3                  Indonesia    266,911,900   1 Jul 2019\n",
       "4                     Brazil    211,102,824   9 Feb 2020\n",
       "..                       ...            ...          ...\n",
       "236                     Niue          1,520   1 Jul 2018\n",
       "237                  Tokelau          1,400   1 Jul 2018\n",
       "238             Vatican City            799   1 Jul 2019\n",
       "239  Cocos (Keeling) Islands            538  30 Jun 2018\n",
       "240         Pitcairn Islands             50   1 Jan 2019\n",
       "\n",
       "[241 rows x 3 columns]"
      ]
     },
     "execution_count": 26,
     "metadata": {},
     "output_type": "execute_result"
    }
   ],
   "source": [
    "populations_df"
   ]
  },
  {
   "cell_type": "code",
   "execution_count": 27,
   "metadata": {},
   "outputs": [],
   "source": [
    "populations_df.to_csv('populations.csv')"
   ]
  },
  {
   "cell_type": "markdown",
   "metadata": {},
   "source": [
    "# But Note a Little Cleaning is Very Helpful Before Storing\n",
    "\n",
    "The data has been successfully scraped although it does still need to be cleaned. The population column for instance is a string data type, which needs to be converted to an integer in order to use many plotting features with it. That can quickly be done via the code below and then exporting. The Date column is also a string and may need to be converted depending on your analysis. "
   ]
  },
  {
   "cell_type": "code",
   "execution_count": 28,
   "metadata": {},
   "outputs": [],
   "source": [
    "populations_df['Pop Fixed'] = populations_df['Population'].str.replace(',', '').astype(int)"
   ]
  },
  {
   "cell_type": "code",
   "execution_count": 29,
   "metadata": {},
   "outputs": [],
   "source": [
    "populations_df['DateTime Date'] = pd.to_datetime(populations_df['Date'])"
   ]
  },
  {
   "cell_type": "code",
   "execution_count": 30,
   "metadata": {},
   "outputs": [
    {
     "data": {
      "text/html": [
       "<div>\n",
       "<style scoped>\n",
       "    .dataframe tbody tr th:only-of-type {\n",
       "        vertical-align: middle;\n",
       "    }\n",
       "\n",
       "    .dataframe tbody tr th {\n",
       "        vertical-align: top;\n",
       "    }\n",
       "\n",
       "    .dataframe thead th {\n",
       "        text-align: right;\n",
       "    }\n",
       "</style>\n",
       "<table border=\"1\" class=\"dataframe\">\n",
       "  <thead>\n",
       "    <tr style=\"text-align: right;\">\n",
       "      <th></th>\n",
       "      <th>Country</th>\n",
       "      <th>Population</th>\n",
       "      <th>Date</th>\n",
       "      <th>Pop Fixed</th>\n",
       "      <th>DateTime Date</th>\n",
       "    </tr>\n",
       "  </thead>\n",
       "  <tbody>\n",
       "    <tr>\n",
       "      <td>0</td>\n",
       "      <td>China</td>\n",
       "      <td>1,401,260,600</td>\n",
       "      <td>9 Feb 2020</td>\n",
       "      <td>1401260600</td>\n",
       "      <td>2020-02-09</td>\n",
       "    </tr>\n",
       "    <tr>\n",
       "      <td>1</td>\n",
       "      <td>India</td>\n",
       "      <td>1,358,409,350</td>\n",
       "      <td>9 Feb 2020</td>\n",
       "      <td>1358409350</td>\n",
       "      <td>2020-02-09</td>\n",
       "    </tr>\n",
       "    <tr>\n",
       "      <td>2</td>\n",
       "      <td>United States</td>\n",
       "      <td>329,302,812</td>\n",
       "      <td>9 Feb 2020</td>\n",
       "      <td>329302812</td>\n",
       "      <td>2020-02-09</td>\n",
       "    </tr>\n",
       "    <tr>\n",
       "      <td>3</td>\n",
       "      <td>Indonesia</td>\n",
       "      <td>266,911,900</td>\n",
       "      <td>1 Jul 2019</td>\n",
       "      <td>266911900</td>\n",
       "      <td>2019-07-01</td>\n",
       "    </tr>\n",
       "    <tr>\n",
       "      <td>4</td>\n",
       "      <td>Brazil</td>\n",
       "      <td>211,102,824</td>\n",
       "      <td>9 Feb 2020</td>\n",
       "      <td>211102824</td>\n",
       "      <td>2020-02-09</td>\n",
       "    </tr>\n",
       "  </tbody>\n",
       "</table>\n",
       "</div>"
      ],
      "text/plain": [
       "         Country     Population        Date   Pop Fixed DateTime Date\n",
       "0          China  1,401,260,600  9 Feb 2020  1401260600    2020-02-09\n",
       "1          India  1,358,409,350  9 Feb 2020  1358409350    2020-02-09\n",
       "2  United States    329,302,812  9 Feb 2020   329302812    2020-02-09\n",
       "3      Indonesia    266,911,900  1 Jul 2019   266911900    2019-07-01\n",
       "4         Brazil    211,102,824  9 Feb 2020   211102824    2020-02-09"
      ]
     },
     "execution_count": 30,
     "metadata": {},
     "output_type": "execute_result"
    }
   ],
   "source": [
    "populations_df.head()"
   ]
  },
  {
   "cell_type": "markdown",
   "metadata": {},
   "source": [
    "# Dropping the old columns\n",
    "Dropping the unnecessary columns, and renaming the new ones, we can export the relevant data to csv."
   ]
  },
  {
   "cell_type": "code",
   "execution_count": 31,
   "metadata": {},
   "outputs": [],
   "source": [
    "populations_df.drop(columns=['Population', 'Date'], inplace=True)"
   ]
  },
  {
   "cell_type": "code",
   "execution_count": 32,
   "metadata": {},
   "outputs": [],
   "source": [
    "populations_df.columns = ['Country', 'Population', 'Date']"
   ]
  },
  {
   "cell_type": "code",
   "execution_count": 33,
   "metadata": {},
   "outputs": [
    {
     "data": {
      "text/html": [
       "<div>\n",
       "<style scoped>\n",
       "    .dataframe tbody tr th:only-of-type {\n",
       "        vertical-align: middle;\n",
       "    }\n",
       "\n",
       "    .dataframe tbody tr th {\n",
       "        vertical-align: top;\n",
       "    }\n",
       "\n",
       "    .dataframe thead th {\n",
       "        text-align: right;\n",
       "    }\n",
       "</style>\n",
       "<table border=\"1\" class=\"dataframe\">\n",
       "  <thead>\n",
       "    <tr style=\"text-align: right;\">\n",
       "      <th></th>\n",
       "      <th>Country</th>\n",
       "      <th>Population</th>\n",
       "      <th>Date</th>\n",
       "    </tr>\n",
       "  </thead>\n",
       "  <tbody>\n",
       "    <tr>\n",
       "      <td>0</td>\n",
       "      <td>China</td>\n",
       "      <td>1401260600</td>\n",
       "      <td>2020-02-09</td>\n",
       "    </tr>\n",
       "    <tr>\n",
       "      <td>1</td>\n",
       "      <td>India</td>\n",
       "      <td>1358409350</td>\n",
       "      <td>2020-02-09</td>\n",
       "    </tr>\n",
       "    <tr>\n",
       "      <td>2</td>\n",
       "      <td>United States</td>\n",
       "      <td>329302812</td>\n",
       "      <td>2020-02-09</td>\n",
       "    </tr>\n",
       "    <tr>\n",
       "      <td>3</td>\n",
       "      <td>Indonesia</td>\n",
       "      <td>266911900</td>\n",
       "      <td>2019-07-01</td>\n",
       "    </tr>\n",
       "    <tr>\n",
       "      <td>4</td>\n",
       "      <td>Brazil</td>\n",
       "      <td>211102824</td>\n",
       "      <td>2020-02-09</td>\n",
       "    </tr>\n",
       "  </tbody>\n",
       "</table>\n",
       "</div>"
      ],
      "text/plain": [
       "         Country  Population       Date\n",
       "0          China  1401260600 2020-02-09\n",
       "1          India  1358409350 2020-02-09\n",
       "2  United States   329302812 2020-02-09\n",
       "3      Indonesia   266911900 2019-07-01\n",
       "4         Brazil   211102824 2020-02-09"
      ]
     },
     "execution_count": 33,
     "metadata": {},
     "output_type": "execute_result"
    }
   ],
   "source": [
    "populations_df.head(5)"
   ]
  },
  {
   "cell_type": "markdown",
   "metadata": {},
   "source": [
    "# This is a nicer dataset to export"
   ]
  },
  {
   "cell_type": "code",
   "execution_count": 34,
   "metadata": {},
   "outputs": [],
   "source": [
    "populations_df.to_csv('cleaned_populations_data.csv')"
   ]
  },
  {
   "cell_type": "markdown",
   "metadata": {},
   "source": [
    "# Final Thoughts\n",
    "\n",
    "Using the methods shown above can take you pretty far in gathering the data you want from a web page. Again I typically do it for one row and then loop through the rest. There will inevitably be minor problems as we saw above and you will have to adjust for them; like how the pattern in which I was extracting each row changed through some of the iterations. Through trial and error you can fix the loop and grab what you need. "
   ]
  }
 ],
 "metadata": {
  "kernelspec": {
   "display_name": "Python 3",
   "language": "python",
   "name": "python3"
  },
  "language_info": {
   "codemirror_mode": {
    "name": "ipython",
    "version": 3
   },
   "file_extension": ".py",
   "mimetype": "text/x-python",
   "name": "python",
   "nbconvert_exporter": "python",
   "pygments_lexer": "ipython3",
   "version": "3.7.4"
  }
 },
 "nbformat": 4,
 "nbformat_minor": 2
}
